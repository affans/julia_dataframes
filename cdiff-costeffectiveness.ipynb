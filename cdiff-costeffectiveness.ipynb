{
 "cells": [
  {
   "cell_type": "code",
   "execution_count": 61,
   "metadata": {},
   "outputs": [
    {
     "name": "stderr",
     "output_type": "stream",
     "text": [
      "┌ Info: Recompiling stale cache file /Users/abmlab/.julia/compiled/v1.0/Distributions/xILW0.ji for Distributions [31c24e10-a181-5473-b8eb-7969acd0382f]\n",
      "└ @ Base loading.jl:1190\n"
     ]
    }
   ],
   "source": [
    "using DataFrames\n",
    "using Query\n",
    "using RData\n",
    "using Distributions"
   ]
  },
  {
   "cell_type": "code",
   "execution_count": 9,
   "metadata": {},
   "outputs": [
    {
     "data": {
      "text/plain": [
       "\"./Documents/simul-mc-none-0-prm_vax_p_0-simplified.RData\""
      ]
     },
     "execution_count": 9,
     "metadata": {},
     "output_type": "execute_result"
    }
   ],
   "source": [
    "## download data from HPC cluster from /data/cdiff-project \n",
    "vax_fn = \"./Documents/simul-mc-frailty-40-prm_vax_p_0-simplified.RData\"\n",
    "novax_fn = \"./Documents/simul-mc-none-0-prm_vax_p_0-simplified.RData\""
   ]
  },
  {
   "cell_type": "code",
   "execution_count": 123,
   "metadata": {},
   "outputs": [],
   "source": [
    "nv = load(novax_fn)[\"simple.df\"];\n",
    "wv = load(vax_fn)[\"simple.df\"];\n"
   ]
  },
  {
   "cell_type": "code",
   "execution_count": 124,
   "metadata": {},
   "outputs": [
    {
     "name": "stdout",
     "output_type": "stream",
     "text": [
      "6×9 DataFrame\n",
      "│ Row │ mc    │ uid     │ timeAdmission │ totDurSymptoms │ isoDurFirst │\n",
      "│     │ \u001b[90mInt32\u001b[39m │ \u001b[90mFloat64\u001b[39m │ \u001b[90mFloat64\u001b[39m       │ \u001b[90mFloat64\u001b[39m        │ \u001b[90mFloat64\u001b[39m     │\n",
      "├─────┼───────┼─────────┼───────────────┼────────────────┼─────────────┤\n",
      "│ 1   │ 1     │ 41525.0 │ 1814.0        │ 6.0            │ 2.0         │\n",
      "│ 2   │ 1     │ 41563.0 │ 1816.0        │ 2.0            │ 0.0         │\n",
      "│ 3   │ 1     │ 41522.0 │ 1814.0        │ 16.5           │ 17.0        │\n",
      "│ 4   │ 1     │ 41623.0 │ 1818.5        │ 10.5           │ 11.0        │\n",
      "│ 5   │ 1     │ 42033.0 │ 1837.0        │ 3.5            │ 4.5         │\n",
      "│ 6   │ 1     │ 42106.0 │ 1840.5        │ 26.0           │ 26.0        │\n",
      "\n",
      "│ Row │ isoDurRelapses │ isVax │ colectomy │ scenario │\n",
      "│     │ \u001b[90mFloat64\u001b[39m        │ \u001b[90mBool\u001b[39m  │ \u001b[90mBool\u001b[39m      │ \u001b[90mString\u001b[39m   │\n",
      "├─────┼────────────────┼───────┼───────────┼──────────┤\n",
      "│ 1   │ 0.0            │ false │ false     │ novax    │\n",
      "│ 2   │ 0.0            │ false │ false     │ novax    │\n",
      "│ 3   │ 0.0            │ false │ false     │ novax    │\n",
      "│ 4   │ 0.0            │ false │ false     │ novax    │\n",
      "│ 5   │ 0.0            │ false │ false     │ novax    │\n",
      "│ 6   │ 0.0            │ false │ false     │ novax    │"
     ]
    },
    {
     "data": {
      "text/plain": [
       "4110227"
      ]
     },
     "execution_count": 124,
     "metadata": {},
     "output_type": "execute_result"
    }
   ],
   "source": [
    "## R: rbind\n",
    "## merge two dataframes together.\n",
    "nv[:scenario] = \"novax\"\n",
    "wv[:scenario] = \"withvax\"\n",
    "dat = [nv; wv]\n",
    "show(first(dat, 6), allcols = true)\n",
    "n = nrow(dat)"
   ]
  },
  {
   "cell_type": "code",
   "execution_count": 125,
   "metadata": {},
   "outputs": [],
   "source": [
    "## delete a column.\n",
    "deletecols!(dat, :colectomy);"
   ]
  },
  {
   "cell_type": "code",
   "execution_count": 126,
   "metadata": {},
   "outputs": [
    {
     "name": "stdout",
     "output_type": "stream",
     "text": [
      "6×9 DataFrame\n",
      "│ Row │ mc    │ uid     │ timeAdmission │ totDurSymptoms │ isoDurFirst │\n",
      "│     │ \u001b[90mInt32\u001b[39m │ \u001b[90mFloat64\u001b[39m │ \u001b[90mFloat64\u001b[39m       │ \u001b[90mFloat64\u001b[39m        │ \u001b[90mFloat64\u001b[39m     │\n",
      "├─────┼───────┼─────────┼───────────────┼────────────────┼─────────────┤\n",
      "│ 1   │ 1     │ 41525.0 │ 1814.0        │ 6.0            │ 2.0         │\n",
      "│ 2   │ 1     │ 41563.0 │ 1816.0        │ 2.0            │ 0.0         │\n",
      "│ 3   │ 1     │ 41522.0 │ 1814.0        │ 16.5           │ 17.0        │\n",
      "│ 4   │ 1     │ 41623.0 │ 1818.5        │ 10.5           │ 11.0        │\n",
      "│ 5   │ 1     │ 42033.0 │ 1837.0        │ 3.5            │ 4.5         │\n",
      "│ 6   │ 1     │ 42106.0 │ 1840.5        │ 26.0           │ 26.0        │\n",
      "\n",
      "│ Row │ isoDurRelapses │ isVax │ scenario │ isoDurTotal │\n",
      "│     │ \u001b[90mFloat64\u001b[39m        │ \u001b[90mBool\u001b[39m  │ \u001b[90mString\u001b[39m   │ \u001b[90mFloat64\u001b[39m     │\n",
      "├─────┼────────────────┼───────┼──────────┼─────────────┤\n",
      "│ 1   │ 0.0            │ false │ novax    │ 2.0         │\n",
      "│ 2   │ 0.0            │ false │ novax    │ 0.0         │\n",
      "│ 3   │ 0.0            │ false │ novax    │ 17.0        │\n",
      "│ 4   │ 0.0            │ false │ novax    │ 11.0        │\n",
      "│ 5   │ 0.0            │ false │ novax    │ 4.5         │\n",
      "│ 6   │ 0.0            │ false │ novax    │ 26.0        │"
     ]
    }
   ],
   "source": [
    "## add a new column\n",
    "dat[:isoDurTotal] = dat.isoDurFirst .+ dat.isoDurRelapses\n",
    "show(first(dat, 6), allcols= true)"
   ]
  },
  {
   "cell_type": "code",
   "execution_count": 128,
   "metadata": {},
   "outputs": [
    {
     "name": "stdout",
     "output_type": "stream",
     "text": [
      "6×9 DataFrame\n",
      "│ Row │ scenario │ mc    │ uid     │ timeAdmission │ totDurSymptoms │\n",
      "│     │ \u001b[90mString\u001b[39m   │ \u001b[90mInt32\u001b[39m │ \u001b[90mFloat64\u001b[39m │ \u001b[90mFloat64\u001b[39m       │ \u001b[90mFloat64\u001b[39m        │\n",
      "├─────┼──────────┼───────┼─────────┼───────────────┼────────────────┤\n",
      "│ 1   │ novax    │ 1     │ 41525.0 │ 1814.0        │ 6.0            │\n",
      "│ 2   │ novax    │ 1     │ 41563.0 │ 1816.0        │ 2.0            │\n",
      "│ 3   │ novax    │ 1     │ 41522.0 │ 1814.0        │ 16.5           │\n",
      "│ 4   │ novax    │ 1     │ 41623.0 │ 1818.5        │ 10.5           │\n",
      "│ 5   │ novax    │ 1     │ 42033.0 │ 1837.0        │ 3.5            │\n",
      "│ 6   │ novax    │ 1     │ 42106.0 │ 1840.5        │ 26.0           │\n",
      "\n",
      "│ Row │ isoDurFirst │ isoDurRelapses │ isoDurTotal │ isVax │\n",
      "│     │ \u001b[90mFloat64\u001b[39m     │ \u001b[90mFloat64\u001b[39m        │ \u001b[90mFloat64\u001b[39m     │ \u001b[90mBool\u001b[39m  │\n",
      "├─────┼─────────────┼────────────────┼─────────────┼───────┤\n",
      "│ 1   │ 2.0         │ 0.0            │ 2.0         │ false │\n",
      "│ 2   │ 0.0         │ 0.0            │ 0.0         │ false │\n",
      "│ 3   │ 17.0        │ 0.0            │ 17.0        │ false │\n",
      "│ 4   │ 11.0        │ 0.0            │ 11.0        │ false │\n",
      "│ 5   │ 4.5         │ 0.0            │ 4.5         │ false │\n",
      "│ 6   │ 26.0        │ 0.0            │ 26.0        │ false │"
     ]
    }
   ],
   "source": [
    "## manually sort the column names\n",
    "#names dosn't reorder the columns.. it just changes the column names\n",
    "#names!(dat, [:mc, :uid, :timeAdmission, :totDurSymptoms, :isoDurFirst, :isoDurRelapses, :isoDurTotal, :isVax])\n",
    "permutecols!(dat, [:scenario, :mc, :uid, :timeAdmission, :totDurSymptoms, :isoDurFirst, :isoDurRelapses, :isoDurTotal, :isVax])\n",
    "show(first(dat, 6), allcols = true)"
   ]
  },
  {
   "cell_type": "code",
   "execution_count": 129,
   "metadata": {},
   "outputs": [
    {
     "name": "stdout",
     "output_type": "stream",
     "text": [
      "4×10 DataFrame\n",
      "│ Row │ scenario │ mc    │ uid     │ timeAdmission │ totDurSymptoms │\n",
      "│     │ \u001b[90mString\u001b[39m   │ \u001b[90mInt32\u001b[39m │ \u001b[90mFloat64\u001b[39m │ \u001b[90mFloat64\u001b[39m       │ \u001b[90mFloat64\u001b[39m        │\n",
      "├─────┼──────────┼───────┼─────────┼───────────────┼────────────────┤\n",
      "│ 1   │ novax    │ 1     │ 41525.0 │ 1814.0        │ 6.0            │\n",
      "│ 2   │ novax    │ 1     │ 41563.0 │ 1816.0        │ 2.0            │\n",
      "│ 3   │ novax    │ 1     │ 41522.0 │ 1814.0        │ 16.5           │\n",
      "│ 4   │ novax    │ 1     │ 41623.0 │ 1818.5        │ 10.5           │\n",
      "\n",
      "│ Row │ isoDurFirst │ isoDurRelapses │ isoDurTotal │ isVax │ med     │\n",
      "│     │ \u001b[90mFloat64\u001b[39m     │ \u001b[90mFloat64\u001b[39m        │ \u001b[90mFloat64\u001b[39m     │ \u001b[90mBool\u001b[39m  │ \u001b[90mFloat64\u001b[39m │\n",
      "├─────┼─────────────┼────────────────┼─────────────┼───────┼─────────┤\n",
      "│ 1   │ 2.0         │ 0.0            │ 2.0         │ false │ 47.0    │\n",
      "│ 2   │ 0.0         │ 0.0            │ 0.0         │ false │ 16.0    │\n",
      "│ 3   │ 17.0        │ 0.0            │ 17.0        │ false │ 129.0   │\n",
      "│ 4   │ 11.0        │ 0.0            │ 11.0        │ false │ 82.0    │"
     ]
    }
   ],
   "source": [
    "## add fees.\n",
    "# Costs:\n",
    "metro = 39\n",
    "vanco = 347\n",
    "medical = (metro*0.77 + vanco*0.14 + (metro+vanco)*0.08)/14   ## 2 week medication fee\n",
    "dat[:med] = round.(medical .* dat.totDurSymptoms)\n",
    "show(first(dat, 4), allcols = true)"
   ]
  },
  {
   "cell_type": "code",
   "execution_count": 130,
   "metadata": {},
   "outputs": [
    {
     "name": "stdout",
     "output_type": "stream",
     "text": [
      "shape and scale: First time(141.7, 6.89)\n",
      "shape and scale: Recurrence(189.0, 5.97)\n",
      "4×11 DataFrame\n",
      "│ Row │ scenario │ mc    │ uid     │ timeAdmission │ totDurSymptoms │\n",
      "│     │ \u001b[90mString\u001b[39m   │ \u001b[90mInt32\u001b[39m │ \u001b[90mFloat64\u001b[39m │ \u001b[90mFloat64\u001b[39m       │ \u001b[90mFloat64\u001b[39m        │\n",
      "├─────┼──────────┼───────┼─────────┼───────────────┼────────────────┤\n",
      "│ 1   │ novax    │ 1     │ 41525.0 │ 1814.0        │ 6.0            │\n",
      "│ 2   │ novax    │ 1     │ 41563.0 │ 1816.0        │ 2.0            │\n",
      "│ 3   │ novax    │ 1     │ 41522.0 │ 1814.0        │ 16.5           │\n",
      "│ 4   │ novax    │ 1     │ 41623.0 │ 1818.5        │ 10.5           │\n",
      "\n",
      "│ Row │ isoDurFirst │ isoDurRelapses │ isoDurTotal │ isVax │ med     │ hosp    │\n",
      "│     │ \u001b[90mFloat64\u001b[39m     │ \u001b[90mFloat64\u001b[39m        │ \u001b[90mFloat64\u001b[39m     │ \u001b[90mBool\u001b[39m  │ \u001b[90mFloat64\u001b[39m │ \u001b[90mFloat64\u001b[39m │\n",
      "├─────┼─────────────┼────────────────┼─────────────┼───────┼─────────┼─────────┤\n",
      "│ 1   │ 2.0         │ 0.0            │ 2.0         │ false │ 47.0    │ 2062.0  │\n",
      "│ 2   │ 0.0         │ 0.0            │ 0.0         │ false │ 16.0    │ 0.0     │\n",
      "│ 3   │ 17.0        │ 0.0            │ 17.0        │ false │ 129.0   │ 15622.0 │\n",
      "│ 4   │ 11.0        │ 0.0            │ 11.0        │ false │ 82.0    │ 10211.0 │"
     ]
    }
   ],
   "source": [
    "## add costs sampled from Gamma Distribution.\n",
    "\n",
    "hospfeecdiF = Gamma(141.7, 6.89) ## shape, scale\n",
    "hospfeecdiR = Gamma(189, 5.97) \n",
    "println(\"shape and scale: First time\", (shape(hospfeecdiF), scale(hospfeecdiF)))\n",
    "println(\"shape and scale: Recurrence\", (shape(hospfeecdiR), scale(hospfeecdiR)))\n",
    "cdif = rand(hospfeecdiF, n)\n",
    "cdir = rand(hospfeecdiR, n)\n",
    "dat[:hosp] = round.(cdif .* dat.isoDurFirst) .+ round.(cdir .* dat.isoDurRelapses)\n",
    "show(first(dat, 4), allcols = true)"
   ]
  },
  {
   "cell_type": "code",
   "execution_count": 131,
   "metadata": {},
   "outputs": [
    {
     "name": "stdout",
     "output_type": "stream",
     "text": [
      "2×12 DataFrame\n",
      "│ Row │ scenario │ mc    │ uid     │ timeAdmission │ totDurSymptoms │\n",
      "│     │ \u001b[90mString\u001b[39m   │ \u001b[90mInt32\u001b[39m │ \u001b[90mFloat64\u001b[39m │ \u001b[90mFloat64\u001b[39m       │ \u001b[90mFloat64\u001b[39m        │\n",
      "├─────┼──────────┼───────┼─────────┼───────────────┼────────────────┤\n",
      "│ 1   │ novax    │ 1     │ 41525.0 │ 1814.0        │ 6.0            │\n",
      "│ 2   │ novax    │ 1     │ 41563.0 │ 1816.0        │ 2.0            │\n",
      "\n",
      "│ Row │ isoDurFirst │ isoDurRelapses │ isoDurTotal │ isVax │ med     │ hosp    │\n",
      "│     │ \u001b[90mFloat64\u001b[39m     │ \u001b[90mFloat64\u001b[39m        │ \u001b[90mFloat64\u001b[39m     │ \u001b[90mBool\u001b[39m  │ \u001b[90mFloat64\u001b[39m │ \u001b[90mFloat64\u001b[39m │\n",
      "├─────┼─────────────┼────────────────┼─────────────┼───────┼─────────┼─────────┤\n",
      "│ 1   │ 2.0         │ 0.0            │ 2.0         │ false │ 47.0    │ 2062.0  │\n",
      "│ 2   │ 0.0         │ 0.0            │ 0.0         │ false │ 16.0    │ 0.0     │\n",
      "\n",
      "│ Row │ vax   │\n",
      "│     │ \u001b[90mInt64\u001b[39m │\n",
      "├─────┼───────┤\n",
      "│ 1   │ 100   │\n",
      "│ 2   │ 100   │"
     ]
    }
   ],
   "source": [
    "## add a constant column for vaccination price\n",
    "dat[:vax] = 100\n",
    "show(first(dat, 2), allcols = true)"
   ]
  },
  {
   "cell_type": "code",
   "execution_count": 132,
   "metadata": {},
   "outputs": [
    {
     "name": "stdout",
     "output_type": "stream",
     "text": [
      "4×13 DataFrame\n",
      "│ Row │ scenario │ mc    │ uid     │ timeAdmission │ totDurSymptoms │\n",
      "│     │ \u001b[90mString\u001b[39m   │ \u001b[90mInt32\u001b[39m │ \u001b[90mFloat64\u001b[39m │ \u001b[90mFloat64\u001b[39m       │ \u001b[90mFloat64\u001b[39m        │\n",
      "├─────┼──────────┼───────┼─────────┼───────────────┼────────────────┤\n",
      "│ 1   │ novax    │ 1     │ 41525.0 │ 1814.0        │ 6.0            │\n",
      "│ 2   │ novax    │ 1     │ 41563.0 │ 1816.0        │ 2.0            │\n",
      "│ 3   │ novax    │ 1     │ 41522.0 │ 1814.0        │ 16.5           │\n",
      "│ 4   │ novax    │ 1     │ 41623.0 │ 1818.5        │ 10.5           │\n",
      "\n",
      "│ Row │ isoDurFirst │ isoDurRelapses │ isoDurTotal │ isVax │ med     │ hosp    │\n",
      "│     │ \u001b[90mFloat64\u001b[39m     │ \u001b[90mFloat64\u001b[39m        │ \u001b[90mFloat64\u001b[39m     │ \u001b[90mBool\u001b[39m  │ \u001b[90mFloat64\u001b[39m │ \u001b[90mFloat64\u001b[39m │\n",
      "├─────┼─────────────┼────────────────┼─────────────┼───────┼─────────┼─────────┤\n",
      "│ 1   │ 2.0         │ 0.0            │ 2.0         │ false │ 47.0    │ 2062.0  │\n",
      "│ 2   │ 0.0         │ 0.0            │ 0.0         │ false │ 16.0    │ 0.0     │\n",
      "│ 3   │ 17.0        │ 0.0            │ 17.0        │ false │ 129.0   │ 15622.0 │\n",
      "│ 4   │ 11.0        │ 0.0            │ 11.0        │ false │ 82.0    │ 10211.0 │\n",
      "\n",
      "│ Row │ vax   │ totalCost │\n",
      "│     │ \u001b[90mInt64\u001b[39m │ \u001b[90mFloat64\u001b[39m   │\n",
      "├─────┼───────┼───────────┤\n",
      "│ 1   │ 100   │ 2209.0    │\n",
      "│ 2   │ 100   │ 116.0     │\n",
      "│ 3   │ 100   │ 15851.0   │\n",
      "│ 4   │ 100   │ 10393.0   │"
     ]
    }
   ],
   "source": [
    "dat[:totalCost] = dat[:med] + dat[:hosp] + dat[:vax]\n",
    "show(first(dat, 4), allcols = true)"
   ]
  },
  {
   "cell_type": "code",
   "execution_count": 160,
   "metadata": {},
   "outputs": [
    {
     "data": {
      "text/html": [
       "<table class=\"data-frame\"><thead><tr><th></th><th>mc</th><th>scenario</th><th>totalcost</th><th>totaleffect</th></tr><tr><th></th><th>Int32</th><th>String</th><th>Float64</th><th>Float64</th></tr></thead><tbody><p>5 rows × 4 columns</p><tr><th>1</th><td>1</td><td>novax</td><td>1.28416e6</td><td>-1281.0</td></tr><tr><th>2</th><td>2</td><td>novax</td><td>1.20491e6</td><td>-1204.5</td></tr><tr><th>3</th><td>3</td><td>novax</td><td>1.46948e6</td><td>-1435.5</td></tr><tr><th>4</th><td>4</td><td>novax</td><td>1.02269e6</td><td>-1025.0</td></tr><tr><th>5</th><td>5</td><td>novax</td><td>997503.0</td><td>-999.5</td></tr></tbody></table>"
      ],
      "text/latex": [
       "\\begin{tabular}{r|cccc}\n",
       "\t& mc & scenario & totalcost & totaleffect\\\\\n",
       "\t\\hline\n",
       "\t& Int32 & String & Float64 & Float64\\\\\n",
       "\t\\hline\n",
       "\t1 & 1 & novax & 1.28416e6 & -1281.0 \\\\\n",
       "\t2 & 2 & novax & 1.20491e6 & -1204.5 \\\\\n",
       "\t3 & 3 & novax & 1.46948e6 & -1435.5 \\\\\n",
       "\t4 & 4 & novax & 1.02269e6 & -1025.0 \\\\\n",
       "\t5 & 5 & novax & 997503.0 & -999.5 \\\\\n",
       "\\end{tabular}\n"
      ],
      "text/plain": [
       "5×4 DataFrame\n",
       "│ Row │ mc    │ scenario │ totalcost │ totaleffect │\n",
       "│     │ \u001b[90mInt32\u001b[39m │ \u001b[90mString\u001b[39m   │ \u001b[90mFloat64\u001b[39m   │ \u001b[90mFloat64\u001b[39m     │\n",
       "├─────┼───────┼──────────┼───────────┼─────────────┤\n",
       "│ 1   │ 1     │ novax    │ 1.28416e6 │ -1281.0     │\n",
       "│ 2   │ 2     │ novax    │ 1.20491e6 │ -1204.5     │\n",
       "│ 3   │ 3     │ novax    │ 1.46948e6 │ -1435.5     │\n",
       "│ 4   │ 4     │ novax    │ 1.02269e6 │ -1025.0     │\n",
       "│ 5   │ 5     │ novax    │ 997503.0  │ -999.5      │"
      ]
     },
     "execution_count": 160,
     "metadata": {},
     "output_type": "execute_result"
    }
   ],
   "source": [
    "### grouping using Linq Style\n",
    "\n",
    "## why does this return Array{DataFrame, 1}\n",
    "dat_grouped  =  @from i in dat begin\n",
    "                @group i by i.mc, i.scenario into g\n",
    "                @select {mc=key(g)[1], scenario=key(g)[2],  totalcost=sum(g.totalCost), totaleffect=-sum(g.isoDurTotal)}\n",
    "                @collect DataFrame\n",
    "                end\n",
    "first(dat_grouped, 5)\n",
    "\n",
    "## use g.key to get the key ..."
   ]
  },
  {
   "cell_type": "code",
   "execution_count": 162,
   "metadata": {},
   "outputs": [
    {
     "data": {
      "text/html": [
       "<table class=\"data-frame\"><thead><tr><th></th><th>mc</th><th>scenario</th><th>totalcost</th><th>totaleffect</th></tr><tr><th></th><th>Int32</th><th>String</th><th>Float64</th><th>Float64</th></tr></thead><tbody><p>5 rows × 4 columns</p><tr><th>1</th><td>1</td><td>novax</td><td>1.28416e6</td><td>-1281.0</td></tr><tr><th>2</th><td>2</td><td>novax</td><td>1.20491e6</td><td>-1204.5</td></tr><tr><th>3</th><td>3</td><td>novax</td><td>1.46948e6</td><td>-1435.5</td></tr><tr><th>4</th><td>4</td><td>novax</td><td>1.02269e6</td><td>-1025.0</td></tr><tr><th>5</th><td>5</td><td>novax</td><td>997503.0</td><td>-999.5</td></tr></tbody></table>"
      ],
      "text/latex": [
       "\\begin{tabular}{r|cccc}\n",
       "\t& mc & scenario & totalcost & totaleffect\\\\\n",
       "\t\\hline\n",
       "\t& Int32 & String & Float64 & Float64\\\\\n",
       "\t\\hline\n",
       "\t1 & 1 & novax & 1.28416e6 & -1281.0 \\\\\n",
       "\t2 & 2 & novax & 1.20491e6 & -1204.5 \\\\\n",
       "\t3 & 3 & novax & 1.46948e6 & -1435.5 \\\\\n",
       "\t4 & 4 & novax & 1.02269e6 & -1025.0 \\\\\n",
       "\t5 & 5 & novax & 997503.0 & -999.5 \\\\\n",
       "\\end{tabular}\n"
      ],
      "text/plain": [
       "5×4 DataFrame\n",
       "│ Row │ mc    │ scenario │ totalcost │ totaleffect │\n",
       "│     │ \u001b[90mInt32\u001b[39m │ \u001b[90mString\u001b[39m   │ \u001b[90mFloat64\u001b[39m   │ \u001b[90mFloat64\u001b[39m     │\n",
       "├─────┼───────┼──────────┼───────────┼─────────────┤\n",
       "│ 1   │ 1     │ novax    │ 1.28416e6 │ -1281.0     │\n",
       "│ 2   │ 2     │ novax    │ 1.20491e6 │ -1204.5     │\n",
       "│ 3   │ 3     │ novax    │ 1.46948e6 │ -1435.5     │\n",
       "│ 4   │ 4     │ novax    │ 1.02269e6 │ -1025.0     │\n",
       "│ 5   │ 5     │ novax    │ 997503.0  │ -999.5      │"
      ]
     },
     "execution_count": 162,
     "metadata": {},
     "output_type": "execute_result"
    }
   ],
   "source": [
    "## basic filtering commands\n",
    "first(dat_grouped |> @filter(_.scenario == \"novax\") |> DataFrame, 5)\n",
    "#dat_grouped |> @filter(_.mc == 1 && _.scenario == \"novax\") #|> DataFrame\n"
   ]
  },
  {
   "cell_type": "code",
   "execution_count": 173,
   "metadata": {},
   "outputs": [
    {
     "data": {
      "text/html": [
       "<table class=\"data-frame\"><thead><tr><th></th><th>mc</th><th>novax</th><th>withvax</th></tr><tr><th></th><th>Int32</th><th>Float64⍰</th><th>Float64⍰</th></tr></thead><tbody><p>5 rows × 3 columns</p><tr><th>1</th><td>1</td><td>1.28416e6</td><td>1.47161e6</td></tr><tr><th>2</th><td>2</td><td>1.20491e6</td><td>1.88893e6</td></tr><tr><th>3</th><td>3</td><td>1.46948e6</td><td>2.03589e6</td></tr><tr><th>4</th><td>4</td><td>1.02269e6</td><td>1.49953e6</td></tr><tr><th>5</th><td>5</td><td>997503.0</td><td>1.16e6</td></tr></tbody></table>"
      ],
      "text/latex": [
       "\\begin{tabular}{r|ccc}\n",
       "\t& mc & novax & withvax\\\\\n",
       "\t\\hline\n",
       "\t& Int32 & Float64⍰ & Float64⍰\\\\\n",
       "\t\\hline\n",
       "\t1 & 1 & 1.28416e6 & 1.47161e6 \\\\\n",
       "\t2 & 2 & 1.20491e6 & 1.88893e6 \\\\\n",
       "\t3 & 3 & 1.46948e6 & 2.03589e6 \\\\\n",
       "\t4 & 4 & 1.02269e6 & 1.49953e6 \\\\\n",
       "\t5 & 5 & 997503.0 & 1.16e6 \\\\\n",
       "\\end{tabular}\n"
      ],
      "text/plain": [
       "5×3 DataFrame\n",
       "│ Row │ mc    │ novax     │ withvax   │\n",
       "│     │ \u001b[90mInt32\u001b[39m │ \u001b[90mFloat64⍰\u001b[39m  │ \u001b[90mFloat64⍰\u001b[39m  │\n",
       "├─────┼───────┼───────────┼───────────┤\n",
       "│ 1   │ 1     │ 1.28416e6 │ 1.47161e6 │\n",
       "│ 2   │ 2     │ 1.20491e6 │ 1.88893e6 │\n",
       "│ 3   │ 3     │ 1.46948e6 │ 2.03589e6 │\n",
       "│ 4   │ 4     │ 1.02269e6 │ 1.49953e6 │\n",
       "│ 5   │ 5     │ 997503.0  │ 1.16e6    │"
      ]
     },
     "execution_count": 173,
     "metadata": {},
     "output_type": "execute_result"
    }
   ],
   "source": [
    "## need to un-stack and melt the data for CEAC function. \n",
    "costs = unstack(dat_grouped, :mc, :scenario, :totalcost)\n",
    "#eltypes(costs)\n",
    "## this says to unstack the scenario column (i.e. unique values in the scenario column become the new column names)\n",
    "## the :mc positional argument is the \"id\"... meaning for each id, get the totalcost for each of the unique scenario value.\n",
    "\n",
    "first(costs, 5)"
   ]
  },
  {
   "cell_type": "code",
   "execution_count": 172,
   "metadata": {},
   "outputs": [
    {
     "data": {
      "text/html": [
       "<table class=\"data-frame\"><thead><tr><th></th><th>mc</th><th>novax</th><th>withvax</th></tr><tr><th></th><th>Int32</th><th>Float64⍰</th><th>Float64⍰</th></tr></thead><tbody><p>5 rows × 3 columns</p><tr><th>1</th><td>1</td><td>-1281.0</td><td>-815.0</td></tr><tr><th>2</th><td>2</td><td>-1204.5</td><td>-1062.0</td></tr><tr><th>3</th><td>3</td><td>-1435.5</td><td>-1159.0</td></tr><tr><th>4</th><td>4</td><td>-1025.0</td><td>-760.5</td></tr><tr><th>5</th><td>5</td><td>-999.5</td><td>-670.0</td></tr></tbody></table>"
      ],
      "text/latex": [
       "\\begin{tabular}{r|ccc}\n",
       "\t& mc & novax & withvax\\\\\n",
       "\t\\hline\n",
       "\t& Int32 & Float64⍰ & Float64⍰\\\\\n",
       "\t\\hline\n",
       "\t1 & 1 & -1281.0 & -815.0 \\\\\n",
       "\t2 & 2 & -1204.5 & -1062.0 \\\\\n",
       "\t3 & 3 & -1435.5 & -1159.0 \\\\\n",
       "\t4 & 4 & -1025.0 & -760.5 \\\\\n",
       "\t5 & 5 & -999.5 & -670.0 \\\\\n",
       "\\end{tabular}\n"
      ],
      "text/plain": [
       "5×3 DataFrame\n",
       "│ Row │ mc    │ novax    │ withvax  │\n",
       "│     │ \u001b[90mInt32\u001b[39m │ \u001b[90mFloat64⍰\u001b[39m │ \u001b[90mFloat64⍰\u001b[39m │\n",
       "├─────┼───────┼──────────┼──────────┤\n",
       "│ 1   │ 1     │ -1281.0  │ -815.0   │\n",
       "│ 2   │ 2     │ -1204.5  │ -1062.0  │\n",
       "│ 3   │ 3     │ -1435.5  │ -1159.0  │\n",
       "│ 4   │ 4     │ -1025.0  │ -760.5   │\n",
       "│ 5   │ 5     │ -999.5   │ -670.0   │"
      ]
     },
     "execution_count": 172,
     "metadata": {},
     "output_type": "execute_result"
    }
   ],
   "source": [
    "effects = unstack(dat_grouped, :mc, :scenario, :totaleffect)\n",
    "first(effects, 5)"
   ]
  },
  {
   "cell_type": "code",
   "execution_count": null,
   "metadata": {},
   "outputs": [],
   "source": []
  }
 ],
 "metadata": {
  "kernelspec": {
   "display_name": "Julia 1.0.3",
   "language": "julia",
   "name": "julia-1.0"
  },
  "language_info": {
   "file_extension": ".jl",
   "mimetype": "application/julia",
   "name": "julia",
   "version": "1.0.3"
  }
 },
 "nbformat": 4,
 "nbformat_minor": 2
}
